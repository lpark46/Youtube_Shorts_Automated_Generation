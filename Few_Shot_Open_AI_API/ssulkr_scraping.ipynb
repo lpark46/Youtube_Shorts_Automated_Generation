{
 "cells": [
  {
   "cell_type": "code",
   "execution_count": 20,
   "id": "a490e02d",
   "metadata": {},
   "outputs": [],
   "source": [
    "import pandas as pd\n",
    "import re\n",
    "from tqdm.notebook import tqdm\n",
    "from urllib.parse import *\n",
    "import requests\n",
    "import time\n",
    "from bs4 import BeautifulSoup\n",
    "import datetime\n",
    "from sklearn.feature_extraction.text import CountVectorizer\n",
    "import pandas as pd\n",
    "import numpy as np\n",
    "import re\n",
    "from sklearn.feature_extraction.text import TfidfVectorizer\n",
    "from sklearn.metrics.pairwise import cosine_similarity\n",
    "from selenium import webdriver\n",
    "import requests\n",
    "import lxml\n",
    "from bs4 import BeautifulSoup\n",
    "import re\n",
    "import pandas as pd\n",
    "from datetime import date\n",
    "from datetime import datetime\n",
    "from selenium.webdriver.support.ui import WebDriverWait as wait\n",
    "import time\n",
    "from selenium.webdriver.common.by import By\n",
    "from selenium.webdriver.common.keys import Keys\n",
    "import warnings\n",
    "warnings.filterwarnings(action='ignore') \n",
    "from selenium.webdriver.support.ui import WebDriverWait\n",
    "from selenium.webdriver.common.by import By\n",
    "from selenium.webdriver.support import expected_conditions as EC"
   ]
  },
  {
   "cell_type": "code",
   "execution_count": 21,
   "id": "a4d4313d",
   "metadata": {},
   "outputs": [],
   "source": [
    "session = requests.Session() ##header를 적용한 크롤링을 하려면 requests 패키지 활용 해야함\n",
    "headers={'user-agent': 'Mozilla/5.0 (Windows NT 10.0; Win64; x64) AppleWebKit/537.36 (KHTML, like Gecko) Chrome/81.0.4044.138 Safari/537.36'}"
   ]
  },
  {
   "cell_type": "code",
   "execution_count": 22,
   "id": "da151484",
   "metadata": {},
   "outputs": [],
   "source": [
    "url = \"https://ssul.kr/bbs/board.php?bo_table=ssul19&wr_id=\""
   ]
  },
  {
   "cell_type": "code",
   "execution_count": 29,
   "id": "d123d80c",
   "metadata": {},
   "outputs": [],
   "source": [
    "def scrape_ssul(i):\n",
    "    try:\n",
    "        sourcecode=session.get(url+str(i),headers=headers,verify=False).content\n",
    "    #     time.sleep(1)\n",
    "        bs=BeautifulSoup(sourcecode,'html.parser')\n",
    "        title = bs.find('h1', {'itemprop':'headline'}).get_text().strip()\n",
    "        panel = re.sub('[\\n\\s]+', '@@@', bs.find('div', {'class':'panel-heading'}).get_text())\n",
    "        main_text = bs.find('div', {'itemprop':'description'}).get_text().strip().replace('\\xa0', ' ')\n",
    "        save_text = title+\"#@!\"+panel+\"#@!\"+main_text\n",
    "        with open(f'./ssulkr/{i}_{title}_{panel.split(\"@@@\")[3]}.txt', 'w') as file:\n",
    "            file.write(save_text)\n",
    "    except:\n",
    "        print(f'error : {i}')\n",
    "        pass"
   ]
  },
  {
   "cell_type": "code",
   "execution_count": null,
   "id": "763299f8",
   "metadata": {},
   "outputs": [
    {
     "data": {
      "application/vnd.jupyter.widget-view+json": {
       "model_id": "232d1aec6109435eb85ed28ed37d6519",
       "version_major": 2,
       "version_minor": 0
      },
      "text/plain": [
       "  0%|          | 0/37487 [00:00<?, ?it/s]"
      ]
     },
     "metadata": {},
     "output_type": "display_data"
    },
    {
     "name": "stdout",
     "output_type": "stream",
     "text": [
      "error : 37483\n",
      "error : 37450\n",
      "error : 37396\n",
      "error : 37316\n",
      "error : 37279\n",
      "error : 37259\n",
      "error : 37248\n",
      "error : 37243\n",
      "error : 37240\n",
      "error : 37202\n",
      "error : 37192\n",
      "error : 37098\n",
      "error : 37097\n",
      "error : 37093\n",
      "error : 37087\n",
      "error : 37082\n",
      "error : 37075\n",
      "error : 37073\n",
      "error : 37072\n",
      "error : 37071\n",
      "error : 37070\n",
      "error : 37069\n",
      "error : 37068\n",
      "error : 37067\n",
      "error : 37066\n"
     ]
    }
   ],
   "source": [
    "for i in tqdm(range(37486, -1, -1)):\n",
    "    scrape_ssul(i)"
   ]
  },
  {
   "cell_type": "code",
   "execution_count": null,
   "id": "6c12b0f5",
   "metadata": {},
   "outputs": [],
   "source": []
  }
 ],
 "metadata": {
  "kernelspec": {
   "display_name": "Python 3 (ipykernel)",
   "language": "python",
   "name": "python3"
  },
  "language_info": {
   "codemirror_mode": {
    "name": "ipython",
    "version": 3
   },
   "file_extension": ".py",
   "mimetype": "text/x-python",
   "name": "python",
   "nbconvert_exporter": "python",
   "pygments_lexer": "ipython3",
   "version": "3.9.12"
  }
 },
 "nbformat": 4,
 "nbformat_minor": 5
}
